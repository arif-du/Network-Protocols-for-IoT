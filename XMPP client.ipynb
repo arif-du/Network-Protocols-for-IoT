{
 "cells": [
  {
   "cell_type": "code",
   "execution_count": 1,
   "id": "63ac0e63",
   "metadata": {},
   "outputs": [
    {
     "name": "stdout",
     "output_type": "stream",
     "text": [
      "Collecting sleekxmpp\n",
      "  Using cached sleekxmpp-1.3.3.tar.gz (845 kB)\n",
      "  Preparing metadata (setup.py): started\n",
      "  Preparing metadata (setup.py): finished with status 'done'\n",
      "Building wheels for collected packages: sleekxmpp\n",
      "  Building wheel for sleekxmpp (setup.py): started\n",
      "  Building wheel for sleekxmpp (setup.py): finished with status 'done'\n",
      "  Created wheel for sleekxmpp: filename=sleekxmpp-1.3.3-py3-none-any.whl size=433461 sha256=909eac8ae4029ba9ec67fed02629752880015f309ade9bf0819a54d345f3277a\n",
      "  Stored in directory: c:\\users\\lap aid d\\appdata\\local\\pip\\cache\\wheels\\d5\\e5\\ed\\b70526f5e269a69fd95aa3e847986808fae013b1cc8ab875f5\n",
      "Successfully built sleekxmpp\n",
      "Installing collected packages: sleekxmpp\n",
      "Successfully installed sleekxmpp-1.3.3\n",
      "Note: you may need to restart the kernel to use updated packages.\n"
     ]
    }
   ],
   "source": [
    "pip install sleekxmpp"
   ]
  },
  {
   "cell_type": "code",
   "execution_count": null,
   "id": "641d3ae4",
   "metadata": {},
   "outputs": [],
   "source": [
    "import sleekxmpp\n",
    "\n",
    "class XMPPClient(sleekxmpp.ClientXMPP):\n",
    "\n",
    "    def __init__(self, jid, password):\n",
    "        sleekxmpp.ClientXMPP.__init__(self, jid, password)\n",
    "\n",
    "        self.add_event_handler(\"session_start\", self.start)\n",
    "        self.add_event_handler(\"message\", self.message)\n",
    "\n",
    "    def start(self, event):\n",
    "        self.send_presence()\n",
    "        self.get_roster()\n",
    "\n",
    "    def message(self, msg):\n",
    "        if msg['type'] in ('chat', 'normal'):\n",
    "            print(f\"Received: {msg['body']}\")\n",
    "\n",
    "if __name__ == \"__main__\":\n",
    "    xmpp_client = XMPPClient(\"your_client_jid@example.com\", \"your_client_password\")\n",
    "    xmpp_client.connect()\n",
    "    xmpp_client.process(block=False)\n",
    "\n",
    "    while True:\n",
    "        recipient = input(\"Recipient JID: \")\n",
    "        message = input(\"Message: \")\n",
    "        xmpp_client.send_message(mto=recipient, mbody=message, mtype=\"chat\")"
   ]
  }
 ],
 "metadata": {
  "kernelspec": {
   "display_name": "Python 3 (ipykernel)",
   "language": "python",
   "name": "python3"
  },
  "language_info": {
   "codemirror_mode": {
    "name": "ipython",
    "version": 3
   },
   "file_extension": ".py",
   "mimetype": "text/x-python",
   "name": "python",
   "nbconvert_exporter": "python",
   "pygments_lexer": "ipython3",
   "version": "3.9.13"
  }
 },
 "nbformat": 4,
 "nbformat_minor": 5
}
