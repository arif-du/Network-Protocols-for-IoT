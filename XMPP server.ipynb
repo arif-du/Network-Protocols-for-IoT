{
 "cells": [
  {
   "cell_type": "code",
   "execution_count": 1,
   "id": "424491d1",
   "metadata": {},
   "outputs": [
    {
     "name": "stdout",
     "output_type": "stream",
     "text": [
      "Collecting sleekxmppNote: you may need to restart the kernel to use updated packages.\n",
      "\n",
      "  Downloading sleekxmpp-1.3.3.tar.gz (845 kB)\n",
      "     -------------------------------------- 845.0/845.0 kB 2.2 MB/s eta 0:00:00\n",
      "  Preparing metadata (setup.py): started\n",
      "  Preparing metadata (setup.py): finished with status 'done'\n",
      "Building wheels for collected packages: sleekxmpp\n",
      "  Building wheel for sleekxmpp (setup.py): started\n",
      "  Building wheel for sleekxmpp (setup.py): finished with status 'done'\n",
      "  Created wheel for sleekxmpp: filename=sleekxmpp-1.3.3-py3-none-any.whl size=433461 sha256=f3ac8e1d00e7f1865dd0894ee2688bd5c5d2421e5ef928f610dffb1c231372da\n",
      "  Stored in directory: c:\\users\\lap aid d\\appdata\\local\\pip\\cache\\wheels\\d5\\e5\\ed\\b70526f5e269a69fd95aa3e847986808fae013b1cc8ab875f5\n",
      "Successfully built sleekxmpp\n",
      "Installing collected packages: sleekxmpp\n",
      "Successfully installed sleekxmpp-1.3.3\n"
     ]
    }
   ],
   "source": [
    "pip install sleekxmpp"
   ]
  },
  {
   "cell_type": "code",
   "execution_count": null,
   "id": "01c906a3",
   "metadata": {},
   "outputs": [],
   "source": [
    "import sleekxmpp\n",
    "\n",
    "class XMPPBot(sleekxmpp.ClientXMPP):\n",
    "\n",
    "    def __init__(self, jid, password):\n",
    "        sleekxmpp.ClientXMPP.__init__(self, jid, password)\n",
    "\n",
    "        self.add_event_handler(\"session_start\", self.start)\n",
    "        self.add_event_handler(\"message\", self.message)\n",
    "\n",
    "    def start(self, event):\n",
    "        self.send_presence()\n",
    "        self.get_roster()\n",
    "\n",
    "    def message(self, msg):\n",
    "        if msg['type'] in ('chat', 'normal'):\n",
    "            msg.reply(\"Hello! You said: {}\".format(msg['body'])).send()\n",
    "\n",
    "if __name__ == \"__main__\":\n",
    "    xmpp = XMPPBot(\"your_bot_jid@example.com\", \"your_bot_password\")\n",
    "    xmpp.connect()\n",
    "    xmpp.process(block=True)"
   ]
  }
 ],
 "metadata": {
  "kernelspec": {
   "display_name": "Python 3 (ipykernel)",
   "language": "python",
   "name": "python3"
  },
  "language_info": {
   "codemirror_mode": {
    "name": "ipython",
    "version": 3
   },
   "file_extension": ".py",
   "mimetype": "text/x-python",
   "name": "python",
   "nbconvert_exporter": "python",
   "pygments_lexer": "ipython3",
   "version": "3.9.13"
  }
 },
 "nbformat": 4,
 "nbformat_minor": 5
}
