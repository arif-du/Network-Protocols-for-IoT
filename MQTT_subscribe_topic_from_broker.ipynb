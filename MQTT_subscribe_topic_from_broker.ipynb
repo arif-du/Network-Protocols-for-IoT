{
  "nbformat": 4,
  "nbformat_minor": 0,
  "metadata": {
    "colab": {
      "provenance": []
    },
    "kernelspec": {
      "name": "python3",
      "display_name": "Python 3"
    },
    "language_info": {
      "name": "python"
    }
  },
  "cells": [
    {
      "cell_type": "markdown",
      "source": [
        "# **Subscribing to a Topic**"
      ],
      "metadata": {
        "id": "uY3cEugZIHAJ"
      }
    },
    {
      "cell_type": "markdown",
      "source": [
        "Now its time to consume the messages which are published to the Temperature topic. Let’s see how we can set up a subscriber with Python Paho-MQTT.\n",
        "\n",
        "**Algorithm: MQTT Temperature Subscriber**\n",
        "\n",
        "1. Import the paho.mqtt.client module as mqtt\n",
        "2. Define the on_connect callback function\n",
        "   - When connected to the MQTT broker:\n",
        "     - Print \"Connected with result code\" along with the result code\n",
        "     - Subscribe to the \"TEMPERATURE\" topic\n",
        "3. Define the on_message callback function\n",
        "   - When a message is received:\n",
        "     - Print the received message payload\n",
        "4. Define the MQTT broker address\n",
        "   - Set mqttBroker to \"mqtt.eclipseprojects.io\"\n",
        "5. Create an MQTT client instance named \"Temperature_Subscriber\"\n",
        "   - Create an instance of mqtt.Client and assign it to the variable client\n",
        "   - Set the client's name to \"Temperature_Subscriber\"\n",
        "6. Set up the callbacks for connection and message handling\n",
        "   - Assign the on_connect callback function to client's on_connect attribute\n",
        "   - Assign the on_message callback function to client's on_message attribute\n",
        "7. Connect to the MQTT broker\n",
        "   - Connect the client to the MQTT broker using mqttBroker\n",
        "8. Start the loop to listen for messages\n",
        "   - Start the client's main loop using loop_forever() method\n",
        "9. End of Algorithm\n",
        "This script effectively sets up an MQTT subscriber that connects to the broker, subscribes to the \"TEMPERATURE\" topic, and listens for incoming messages, printing them to the console. Make sure to replace the MQTT broker address with the appropriate address for your MQTT broker."
      ],
      "metadata": {
        "id": "C1nNLLviH-fK"
      }
    },
    {
      "cell_type": "code",
      "source": [
        "pip install paho-mqtt"
      ],
      "metadata": {
        "colab": {
          "base_uri": "https://localhost:8080/"
        },
        "id": "_64nC_-pjfNV",
        "outputId": "b8f82682-4bf5-438d-e303-05c2470a9590"
      },
      "execution_count": 12,
      "outputs": [
        {
          "output_type": "stream",
          "name": "stdout",
          "text": [
            "Requirement already satisfied: paho-mqtt in /usr/local/lib/python3.10/dist-packages (1.6.1)\n"
          ]
        }
      ]
    },
    {
      "cell_type": "markdown",
      "source": [
        "Make sure you have Python and pip installed on your system before running this command. If you encounter any issues during installation, you might need to troubleshoot your Python environment or internet connection."
      ],
      "metadata": {
        "id": "uaNgDd0GIpOJ"
      }
    },
    {
      "cell_type": "code",
      "source": [
        "import paho.mqtt.client as mqtt"
      ],
      "metadata": {
        "id": "ml7R2BndIayq"
      },
      "execution_count": 13,
      "outputs": []
    },
    {
      "cell_type": "markdown",
      "source": [
        "This line imports the paho.mqtt.client module, which is the library used for MQTT communication in Python."
      ],
      "metadata": {
        "id": "Hnn4gcn3ItiJ"
      }
    },
    {
      "cell_type": "code",
      "source": [
        "# Callback when a connection has been established with the MQTT broker\n",
        "def on_connect(client, userdata, flags, rc):\n",
        "    print(\"Connected with result code \"+str(rc))\n",
        "    # Subscribe to the topic\n",
        "    client.subscribe(\"TEMPERATURE\")"
      ],
      "metadata": {
        "id": "lQ1OdbiHIyRA"
      },
      "execution_count": 14,
      "outputs": []
    },
    {
      "cell_type": "markdown",
      "source": [
        "This defines the on_connect callback function. It is called when the MQTT client successfully connects to the broker. It prints the connection result code and subscribes to the \"TEMPERATURE\" topic."
      ],
      "metadata": {
        "id": "dqtjHpCxIxi0"
      }
    },
    {
      "cell_type": "code",
      "source": [
        "# Callback when a message is received from the MQTT broker\n",
        "def on_message(client, userdata, msg):\n",
        "    print(f\"Received message: {msg.payload.decode()}\")"
      ],
      "metadata": {
        "id": "8yVFfhM6JAhR"
      },
      "execution_count": 15,
      "outputs": []
    },
    {
      "cell_type": "markdown",
      "source": [
        "This defines the on_message callback function. It is called whenever a message is received on the subscribed topic. It prints the received message payload."
      ],
      "metadata": {
        "id": "00N_oNNUJD-q"
      }
    },
    {
      "cell_type": "code",
      "source": [
        "# Define the MQTT broker address\n",
        "mqttBroker = \"mqtt.eclipseprojects.io\""
      ],
      "metadata": {
        "id": "b6aKXdUbJGwA"
      },
      "execution_count": 16,
      "outputs": []
    },
    {
      "cell_type": "markdown",
      "source": [
        "This line sets the MQTT broker's address. You would replace \"mqtt.eclipseprojects.io\" with the actual address of your MQTT broker."
      ],
      "metadata": {
        "id": "cobcYQjCJKwb"
      }
    },
    {
      "cell_type": "code",
      "source": [
        "# Create an MQTT client instance named \"Temperature_Subscriber\"\n",
        "client = mqtt.Client(\"Temperature_Subscriber\")"
      ],
      "metadata": {
        "id": "VQ6atEv2JTbp"
      },
      "execution_count": 17,
      "outputs": []
    },
    {
      "cell_type": "markdown",
      "source": [
        "Here, you create an MQTT client instance named \"Temperature_Subscriber\". This instance will be used to connect to the MQTT broker and handle communication."
      ],
      "metadata": {
        "id": "yvF5QhN5JYUB"
      }
    },
    {
      "cell_type": "code",
      "source": [
        "# Set up the callbacks for connection and message handling\n",
        "client.on_connect = on_connect\n",
        "client.on_message = on_message"
      ],
      "metadata": {
        "id": "g5I-JZYuJZNZ"
      },
      "execution_count": 18,
      "outputs": []
    },
    {
      "cell_type": "markdown",
      "source": [
        "These lines set the on_connect and on_message callbacks for the MQTT client. These callbacks will be called when the client establishes a connection and when messages are received."
      ],
      "metadata": {
        "id": "rqYCByHTJd-H"
      }
    },
    {
      "cell_type": "code",
      "source": [
        "# Connect to the MQTT broker\n",
        "client.connect(mqttBroker)"
      ],
      "metadata": {
        "colab": {
          "base_uri": "https://localhost:8080/"
        },
        "id": "M0wmlIuVJhx4",
        "outputId": "f5dfcb6f-a9b4-4d2b-af60-2e46e9dba1bc"
      },
      "execution_count": 19,
      "outputs": [
        {
          "output_type": "execute_result",
          "data": {
            "text/plain": [
              "0"
            ]
          },
          "metadata": {},
          "execution_count": 19
        }
      ]
    },
    {
      "cell_type": "markdown",
      "source": [
        "This line connects the MQTT client to the broker using the specified MQTT broker address."
      ],
      "metadata": {
        "id": "t8peiwKOJlHx"
      }
    },
    {
      "cell_type": "code",
      "source": [
        "# Start the loop to listen for messages\n",
        "client.loop_forever()"
      ],
      "metadata": {
        "colab": {
          "base_uri": "https://localhost:8080/"
        },
        "id": "BnREFt8xJr15",
        "outputId": "22dbe2fb-7032-4477-89c5-09f4898ef820"
      },
      "execution_count": null,
      "outputs": [
        {
          "output_type": "stream",
          "name": "stdout",
          "text": [
            "Connected with result code 0\n",
            "Received message: 20.145327084487295\n",
            "Received message: 20.861540770648926\n",
            "Received message: 20.448624445599748\n",
            "Received message: 20.70752232596592\n",
            "Received message: 20.356039215100278\n",
            "Received message: 20.12974146153489\n",
            "Received message: 20.655593685810548\n",
            "Received message: 20.21083609572722\n",
            "Received message: 20.005876730806957\n",
            "Received message: 20.189993630903118\n",
            "Received message: 20.352288669996117\n",
            "Received message: 20.29580306574498\n",
            "Received message: 20.353560586287927\n",
            "Received message: 20.836302124037758\n",
            "Received message: 20.54996941351739\n",
            "Received message: 20.330177702140514\n",
            "Received message: 20.41136876587705\n",
            "Received message: 20.215010459548438\n",
            "Received message: 20.796215024468747\n",
            "Received message: 20.776092202608606\n",
            "Received message: 20.51525241240953\n",
            "Received message: 20.98191029570056\n",
            "Received message: 20.045412569574292\n",
            "Received message: 20.727963402965983\n",
            "Received message: 20.57549628074871\n",
            "Received message: 20.455863957540984\n",
            "Received message: 20.177489824616753\n",
            "Received message: 20.864701873835198\n",
            "Received message: 20.418051331356562\n",
            "Received message: 20.521503886424178\n",
            "Received message: 20.741332132564263\n",
            "Received message: 20.90320923289423\n",
            "Received message: 20.67077165867389\n",
            "Received message: 20.07496921850867\n",
            "Received message: 20.649133124971353\n",
            "Received message: 20.78720657064681\n",
            "Received message: 20.84441682512552\n",
            "Received message: 20.47632280395355\n",
            "Received message: 20.866706269779776\n",
            "Received message: 20.412187490990792\n"
          ]
        }
      ]
    },
    {
      "cell_type": "markdown",
      "source": [
        "This line starts the MQTT client's main loop, which listens for incoming messages and triggers the appropriate callbacks when messages are received. The loop_forever() method ensures that the loop continues indefinitely."
      ],
      "metadata": {
        "id": "N9nlKPGvJxoR"
      }
    },
    {
      "cell_type": "code",
      "execution_count": null,
      "metadata": {
        "id": "jYpqv2wKjIPW"
      },
      "outputs": [],
      "source": [
        "\n",
        "\n",
        "\n",
        "\n",
        "# Set up callbacks\n",
        "client.on_connect = on_connect\n",
        "client.on_message = on_message\n",
        "\n",
        "# Connect to the broker\n",
        "client.connect(mqttBroker)\n",
        "\n",
        "# Start the loop to listen for messages\n",
        "client.loop_forever()"
      ]
    },
    {
      "cell_type": "code",
      "source": [],
      "metadata": {
        "id": "1w0Ad2gGmKFX"
      },
      "execution_count": null,
      "outputs": []
    }
  ]
}