{
 "cells": [
  {
   "cell_type": "code",
   "execution_count": 1,
   "id": "b2ad9e61",
   "metadata": {},
   "outputs": [
    {
     "name": "stdout",
     "output_type": "stream",
     "text": [
      "Collecting suds-jurkoNote: you may need to restart the kernel to use updated packages.\n"
     ]
    },
    {
     "name": "stderr",
     "output_type": "stream",
     "text": [
      "  error: subprocess-exited-with-error\n",
      "  \n",
      "  python setup.py egg_info did not run successfully.\n",
      "  exit code: 1\n",
      "  \n",
      "  [1 lines of output]\n",
      "  error in suds-jurko setup command: use_2to3 is invalid.\n",
      "  [end of output]\n",
      "  \n",
      "  note: This error originates from a subprocess, and is likely not a problem with pip.\n",
      "error: metadata-generation-failed\n",
      "\n",
      "Encountered error while generating package metadata.\n",
      "\n",
      "See above for output.\n",
      "\n",
      "note: This is an issue with the package mentioned above, not pip.\n",
      "hint: See above for details.\n"
     ]
    },
    {
     "name": "stdout",
     "output_type": "stream",
     "text": [
      "\n",
      "  Downloading suds-jurko-0.6.zip (255 kB)\n",
      "     -------------------------------------- 255.8/255.8 kB 1.4 MB/s eta 0:00:00\n",
      "  Preparing metadata (setup.py): started\n",
      "  Preparing metadata (setup.py): finished with status 'error'\n"
     ]
    }
   ],
   "source": [
    "pip install suds-jurko"
   ]
  },
  {
   "cell_type": "code",
   "execution_count": null,
   "id": "5fe5c0b2",
   "metadata": {},
   "outputs": [
    {
     "name": "stdout",
     "output_type": "stream",
     "text": [
      "SOAP server is running on http://localhost:8000\n"
     ]
    }
   ],
   "source": [
    "from http.server import HTTPServer, SimpleHTTPRequestHandler\n",
    "\n",
    "SOAP_RESPONSE = \"\"\"<?xml version=\"1.0\" encoding=\"UTF-8\"?>\n",
    "<soap:Envelope xmlns:soap=\"http://schemas.xmlsoap.org/soap/envelope/\">\n",
    "    <soap:Body>\n",
    "        <greetResponse xmlns=\"http://example.com/\">\n",
    "            <message>Hello, SOAP Client!</message>\n",
    "        </greetResponse>\n",
    "    </soap:Body>\n",
    "</soap:Envelope>\n",
    "\"\"\"\n",
    "\n",
    "class SoapHandler(SimpleHTTPRequestHandler):\n",
    "    def do_POST(self):\n",
    "        self.send_response(200)\n",
    "        self.send_header('Content-Type', 'text/xml')\n",
    "        self.end_headers()\n",
    "        self.wfile.write(SOAP_RESPONSE.encode('utf-8'))\n",
    "\n",
    "def run():\n",
    "    httpd = HTTPServer(('localhost', 8000), SoapHandler)\n",
    "    print(\"SOAP server is running on http://localhost:8000\")\n",
    "    httpd.serve_forever()\n",
    "\n",
    "if __name__ == '__main__':\n",
    "    run()"
   ]
  },
  {
   "cell_type": "code",
   "execution_count": null,
   "id": "76b389d3",
   "metadata": {},
   "outputs": [],
   "source": []
  }
 ],
 "metadata": {
  "kernelspec": {
   "display_name": "Python 3 (ipykernel)",
   "language": "python",
   "name": "python3"
  },
  "language_info": {
   "codemirror_mode": {
    "name": "ipython",
    "version": 3
   },
   "file_extension": ".py",
   "mimetype": "text/x-python",
   "name": "python",
   "nbconvert_exporter": "python",
   "pygments_lexer": "ipython3",
   "version": "3.9.13"
  }
 },
 "nbformat": 4,
 "nbformat_minor": 5
}
