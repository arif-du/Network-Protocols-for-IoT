{
 "cells": [
  {
   "cell_type": "code",
   "execution_count": null,
   "id": "424491d1",
   "metadata": {},
   "outputs": [
    {
     "name": "stdout",
     "output_type": "stream",
     "text": [
      "Server listening on 0.0.0.0:12345\n",
      "Connection from ('127.0.0.1', 59790)\n"
     ]
    }
   ],
   "source": [
    "import socket\n",
    "\n",
    "server_host = '0.0.0.0'  # Listen on all available interfaces\n",
    "server_port = 12345\n",
    "\n",
    "server_socket = socket.socket(socket.AF_INET, socket.SOCK_STREAM)\n",
    "server_socket.bind((server_host, server_port))\n",
    "server_socket.listen(1)\n",
    "\n",
    "print(f\"Server listening on {server_host}:{server_port}\")\n",
    "\n",
    "while True:\n",
    "    client_socket, client_address = server_socket.accept()\n",
    "    print(f\"Connection from {client_address}\")\n",
    "\n",
    "    message = \"Welcome to the IoT world!\"\n",
    "    client_socket.send(message.encode('utf-8'))\n",
    "\n",
    "    client_socket.close()"
   ]
  },
  {
   "cell_type": "code",
   "execution_count": null,
   "id": "01c906a3",
   "metadata": {},
   "outputs": [],
   "source": []
  }
 ],
 "metadata": {
  "kernelspec": {
   "display_name": "Python 3 (ipykernel)",
   "language": "python",
   "name": "python3"
  },
  "language_info": {
   "codemirror_mode": {
    "name": "ipython",
    "version": 3
   },
   "file_extension": ".py",
   "mimetype": "text/x-python",
   "name": "python",
   "nbconvert_exporter": "python",
   "pygments_lexer": "ipython3",
   "version": "3.9.13"
  }
 },
 "nbformat": 4,
 "nbformat_minor": 5
}
